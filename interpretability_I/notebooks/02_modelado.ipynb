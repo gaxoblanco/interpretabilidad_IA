{
 "cells": [
  {
   "cell_type": "markdown",
   "id": "82262a16",
   "metadata": {},
   "source": [
    "# ============================================\n",
    "# NOTEBOOK: 02_modelado.ipynb\n",
    "# OBJETIVO: Entrenar modelo XGBoost para clasificación de riesgo crediticio\n",
    "# AUTOR: [Tu nombre]\n",
    "# FECHA: [Fecha actual]\n",
    "# ============================================"
   ]
  },
  {
   "cell_type": "markdown",
   "id": "a0146827",
   "metadata": {},
   "source": [
    "# # 🤖 Modelado con XGBoost\n",
    "# \n",
    "# ## Objetivo\n",
    "# Entrenar un modelo de clasificación binaria para predecir riesgo crediticio\n",
    "# \n",
    "# ## Contenido\n",
    "# 1. Carga de datos y preprocesamiento\n",
    "# 2. Split train/test\n",
    "# 3. Encoding de variables categóricas\n",
    "# 4. Entrenamiento XGBoost baseline\n",
    "# 5. Evaluación con múltiples métricas\n",
    "# 6. Guardar modelo\n",
    "# 7. Análisis de feature importance"
   ]
  },
  {
   "cell_type": "code",
   "execution_count": 1,
   "id": "c9be3831",
   "metadata": {},
   "outputs": [
    {
     "name": "stdout",
     "output_type": "stream",
     "text": [
      "✅ Librerías importadas correctamente\n"
     ]
    }
   ],
   "source": [
    "# Importar librerías necesarias\n",
    "import pandas as pd\n",
    "import numpy as np\n",
    "import matplotlib.pyplot as plt\n",
    "import seaborn as sns\n",
    "import warnings\n",
    "# Machine Learning\n",
    "from sklearn.model_selection import train_test_split\n",
    "from sklearn.preprocessing import LabelEncoder\n",
    "from sklearn.metrics import (\n",
    "    accuracy_score, \n",
    "    precision_score, \n",
    "    recall_score, \n",
    "    f1_score,\n",
    "    confusion_matrix,\n",
    "    classification_report,\n",
    "    roc_auc_score,\n",
    "    roc_curve\n",
    ")\n",
    "\n",
    "# XGBoost\n",
    "import xgboost as xgb\n",
    "from xgboost import XGBClassifier\n",
    "\n",
    "# Guardar modelos\n",
    "import joblib\n",
    "from pathlib import Path\n",
    "\n",
    "# Configuración\n",
    "warnings.filterwarnings('ignore')\n",
    "plt.style.use('seaborn-v0_8-darkgrid')\n",
    "sns.set_palette(\"husl\")\n",
    "plt.rcParams['figure.figsize'] = (12, 6)\n",
    "\n",
    "print(\"✅ Librerías importadas correctamente\")"
   ]
  },
  {
   "cell_type": "code",
   "execution_count": 4,
   "id": "a66decd7",
   "metadata": {},
   "outputs": [
    {
     "name": "stdout",
     "output_type": "stream",
     "text": [
      "✅ Datos cargados correctamente\n",
      "📊 Dimensiones: 1000 filas x 21 columnas\n",
      "🎯 Target: {0: 700, 1: 300}\n"
     ]
    }
   ],
   "source": [
    "# Cargar datos de german_credit_data\n",
    "\n",
    "# Nombres de las columnas\n",
    "column_names = [\n",
    "    'checking_status', 'duration', 'credit_history', 'purpose', \n",
    "    'credit_amount', 'savings_status', 'employment', 'installment_rate',\n",
    "    'personal_status', 'other_parties', 'residence_since', \n",
    "    'property_magnitude', 'age', 'other_payment_plans', 'housing',\n",
    "    'existing_credits', 'job', 'num_dependents', 'own_telephone',\n",
    "    'foreign_worker', 'risk'\n",
    "]\n",
    "\n",
    "# Cargar dataset\n",
    "df = pd.read_csv('../../german_credit_data/german.data', \n",
    "                 sep=' ',\n",
    "                 header=None,\n",
    "                 names=column_names)\n",
    "\n",
    "# Convertir target: 1=Good, 2=Bad → 0=Good, 1=Bad\n",
    "df['risk'] = df['risk'].map({1: 0, 2: 1})\n",
    "\n",
    "print(\"✅ Datos cargados correctamente\")\n",
    "print(f\"📊 Dimensiones: {df.shape[0]} filas x {df.shape[1]} columnas\")\n",
    "print(f\"🎯 Target: {df['risk'].value_counts().to_dict()}\")\n"
   ]
  },
  {
   "cell_type": "markdown",
   "id": "31daf2b0",
   "metadata": {},
   "source": [
    "# ## 2. Preprocesamiento de Datos"
   ]
  },
  {
   "cell_type": "code",
   "execution_count": 6,
   "id": "627961b4",
   "metadata": {},
   "outputs": [
    {
     "name": "stdout",
     "output_type": "stream",
     "text": [
      "============================================================\n",
      "SEPARACIÓN FEATURES Y TARGET\n",
      "============================================================\n",
      "Features (X): (1000, 20)\n",
      "Target (y): (1000,)\n",
      "\n",
      "Distribución del target:\n",
      "risk\n",
      "0    700\n",
      "1    300\n",
      "Name: count, dtype: int64\n",
      "Proporción: {0: 0.7, 1: 0.3}\n"
     ]
    }
   ],
   "source": [
    "# Separar features y target\n",
    "X = df.drop('risk', axis=1)\n",
    "y = df['risk']\n",
    "\n",
    "print(\"=\"*60)\n",
    "print(\"SEPARACIÓN FEATURES Y TARGET\")\n",
    "print(\"=\"*60)\n",
    "print(f\"Features (X): {X.shape}\")\n",
    "print(f\"Target (y): {y.shape}\")\n",
    "print(f\"\\nDistribución del target:\")\n",
    "print(y.value_counts())\n",
    "print(f\"Proporción: {y.value_counts(normalize=True).to_dict()}\")"
   ]
  },
  {
   "cell_type": "code",
   "execution_count": 7,
   "id": "dcd775e7",
   "metadata": {},
   "outputs": [
    {
     "name": "stdout",
     "output_type": "stream",
     "text": [
      "============================================================\n",
      "TIPOS DE VARIABLES\n",
      "============================================================\n",
      "\n",
      "📊 Variables Numéricas (7):\n",
      "  - duration\n",
      "  - credit_amount\n",
      "  - installment_rate\n",
      "  - residence_since\n",
      "  - age\n",
      "  - existing_credits\n",
      "  - num_dependents\n",
      "\n",
      "📝 Variables Categóricas (13):\n",
      "  - checking_status (4 categorías únicas)\n",
      "  - credit_history (5 categorías únicas)\n",
      "  - purpose (10 categorías únicas)\n",
      "  - savings_status (5 categorías únicas)\n",
      "  - employment (5 categorías únicas)\n",
      "  - personal_status (4 categorías únicas)\n",
      "  - other_parties (3 categorías únicas)\n",
      "  - property_magnitude (4 categorías únicas)\n",
      "  - other_payment_plans (3 categorías únicas)\n",
      "  - housing (3 categorías únicas)\n",
      "  - job (4 categorías únicas)\n",
      "  - own_telephone (2 categorías únicas)\n",
      "  - foreign_worker (2 categorías únicas)\n"
     ]
    }
   ],
   "source": [
    "# Identificar tipos de variables\n",
    "numeric_features = X.select_dtypes(include=['int64', 'float64']).columns.tolist()\n",
    "categorical_features = X.select_dtypes(include=['object']).columns.tolist()\n",
    "\n",
    "print(\"=\"*60)\n",
    "print(\"TIPOS DE VARIABLES\")\n",
    "print(\"=\"*60)\n",
    "print(f\"\\n📊 Variables Numéricas ({len(numeric_features)}):\")\n",
    "for col in numeric_features:\n",
    "    print(f\"  - {col}\")\n",
    "\n",
    "print(f\"\\n📝 Variables Categóricas ({len(categorical_features)}):\")\n",
    "for col in categorical_features:\n",
    "    unique_count = X[col].nunique()\n",
    "    print(f\"  - {col} ({unique_count} categorías únicas)\")"
   ]
  },
  {
   "cell_type": "markdown",
   "id": "c054e117",
   "metadata": {},
   "source": [
    "# ## 3. Encoding de Variables Categóricas"
   ]
  },
  {
   "cell_type": "code",
   "execution_count": 8,
   "id": "a026ea06",
   "metadata": {},
   "outputs": [
    {
     "name": "stdout",
     "output_type": "stream",
     "text": [
      "============================================================\n",
      "ENCODING DE VARIABLES CATEGÓRICAS\n",
      "============================================================\n",
      "✅ checking_status: 4 categorías → 0 a 3\n",
      "✅ credit_history: 5 categorías → 0 a 4\n",
      "✅ purpose: 10 categorías → 0 a 9\n",
      "✅ savings_status: 5 categorías → 0 a 4\n",
      "✅ employment: 5 categorías → 0 a 4\n",
      "✅ personal_status: 4 categorías → 0 a 3\n",
      "✅ other_parties: 3 categorías → 0 a 2\n",
      "✅ property_magnitude: 4 categorías → 0 a 3\n",
      "✅ other_payment_plans: 3 categorías → 0 a 2\n",
      "✅ housing: 3 categorías → 0 a 2\n",
      "✅ job: 4 categorías → 0 a 3\n",
      "✅ own_telephone: 2 categorías → 0 a 1\n",
      "✅ foreign_worker: 2 categorías → 0 a 1\n",
      "\n",
      "✅ Total de encoders guardados: 13\n"
     ]
    }
   ],
   "source": [
    "# Crear copia para no modificar original\n",
    "X_encoded = X.copy()\n",
    "\n",
    "# Aplicar Label Encoding a todas las categóricas\n",
    "# Nota: Para XGBoost, Label Encoding es suficiente y eficiente\n",
    "# (XGBoost puede manejar variables categóricas codificadas numéricamente)\n",
    "\n",
    "label_encoders = {}\n",
    "\n",
    "print(\"=\"*60)\n",
    "print(\"ENCODING DE VARIABLES CATEGÓRICAS\")\n",
    "print(\"=\"*60)\n",
    "\n",
    "for col in categorical_features:\n",
    "    le = LabelEncoder()\n",
    "    X_encoded[col] = le.fit_transform(X[col])\n",
    "    label_encoders[col] = le\n",
    "    \n",
    "    print(f\"✅ {col}: {X[col].nunique()} categorías → 0 a {X_encoded[col].max()}\")\n",
    "\n",
    "print(f\"\\n✅ Total de encoders guardados: {len(label_encoders)}\")"
   ]
  },
  {
   "cell_type": "markdown",
   "id": "3566559d",
   "metadata": {},
   "source": [
    "# Verificar que no hay valores no numéricos\n",
    "print(\"=\"*60)\n",
    "print(\"VERIFICACIÓN POST-ENCODING\")\n",
    "print(\"=\"*60)\n",
    "print(f\"Tipos de datos:\")\n",
    "print(X_encoded.dtypes.value_counts())\n",
    "print(f\"\\n✅ Todas las variables son numéricas: {X_encoded.select_dtypes(include=['object']).shape[1] == 0}\")\n"
   ]
  },
  {
   "cell_type": "markdown",
   "id": "87299946",
   "metadata": {},
   "source": [
    "# ## 4. Split Train/Test"
   ]
  },
  {
   "cell_type": "code",
   "execution_count": 9,
   "id": "eab63406",
   "metadata": {},
   "outputs": [
    {
     "name": "stdout",
     "output_type": "stream",
     "text": [
      "============================================================\n",
      "SPLIT TRAIN/TEST\n",
      "============================================================\n",
      "Training set: 800 muestras (80.0%)\n",
      "Test set: 200 muestras (20.0%)\n",
      "\n",
      "Distribución del target en Train:\n",
      "risk\n",
      "0    0.7\n",
      "1    0.3\n",
      "Name: proportion, dtype: float64\n",
      "\n",
      "Distribución del target en Test:\n",
      "risk\n",
      "0    0.7\n",
      "1    0.3\n",
      "Name: proportion, dtype: float64\n",
      "\n",
      "✅ Estratificación correcta: True\n"
     ]
    }
   ],
   "source": [
    "# Split estratificado (mantiene proporción del target)\n",
    "X_train, X_test, y_train, y_test = train_test_split(\n",
    "    X_encoded, \n",
    "    y, \n",
    "    test_size=0.2,       # 80% train, 20% test\n",
    "    random_state=42,     # Reproducibilidad\n",
    "    stratify=y           # Mantener proporción de clases\n",
    ")\n",
    "\n",
    "print(\"=\"*60)\n",
    "print(\"SPLIT TRAIN/TEST\")\n",
    "print(\"=\"*60)\n",
    "print(f\"Training set: {X_train.shape[0]} muestras ({X_train.shape[0]/len(X)*100:.1f}%)\")\n",
    "print(f\"Test set: {X_test.shape[0]} muestras ({X_test.shape[0]/len(X)*100:.1f}%)\")\n",
    "\n",
    "print(f\"\\nDistribución del target en Train:\")\n",
    "print(y_train.value_counts(normalize=True))\n",
    "\n",
    "print(f\"\\nDistribución del target en Test:\")\n",
    "print(y_test.value_counts(normalize=True))\n",
    "\n",
    "# Verificar que el split es estratificado\n",
    "train_ratio = y_train.value_counts(normalize=True)[1]\n",
    "test_ratio = y_test.value_counts(normalize=True)[1]\n",
    "print(f\"\\n✅ Estratificación correcta: {abs(train_ratio - test_ratio) < 0.02}\")"
   ]
  },
  {
   "cell_type": "markdown",
   "id": "fc7581d1",
   "metadata": {},
   "source": [
    "# ## 5. Entrenamiento XGBoost - Modelo Baseline"
   ]
  },
  {
   "cell_type": "code",
   "execution_count": 42,
   "id": "b9935c9b",
   "metadata": {},
   "outputs": [
    {
     "name": "stdout",
     "output_type": "stream",
     "text": [
      "============================================================\n",
      "🚀 ENTRENAMIENTO DE MODELO XGBOOST\n",
      "============================================================\n",
      "\n",
      "⚖️ Scale pos weight (para desbalanceo): 2.33\n",
      "\n",
      "📋 Hiperparámetros del modelo:\n",
      "  - n_estimators: 200\n",
      "  - max_depth: 3\n",
      "  - learning_rate: 0.05\n",
      "  - scale_pos_weight: 2.33\n"
     ]
    }
   ],
   "source": [
    "print(\"=\"*60)\n",
    "print(\"🚀 ENTRENAMIENTO DE MODELO XGBOOST\")\n",
    "print(\"=\"*60)\n",
    "\n",
    "# Calcular scale_pos_weight para manejar desbalanceo\n",
    "# Fórmula: (número de clase mayoritaria) / (número de clase minoritaria)\n",
    "scale_pos_weight = (y_train == 0).sum() / (y_train == 1).sum()\n",
    "print(f\"\\n⚖️ Scale pos weight (para desbalanceo): {scale_pos_weight:.2f}\")\n",
    "\n",
    "# Definir modelo\n",
    "model = XGBClassifier(\n",
    "    n_estimators=200,              # Número de árboles\n",
    "    max_depth=3,                   # Profundidad máxima (controla overfitting)\n",
    "    learning_rate=0.05,             # Tasa de aprendizaje\n",
    "    scale_pos_weight=scale_pos_weight,  # Manejo de desbalanceo\n",
    "    random_state=42,               # Reproducibilidad\n",
    "    eval_metric='logloss',         # Métrica de evaluación\n",
    "    use_label_encoder=False        # Evitar warning\n",
    ")\n",
    "\n",
    "print(\"\\n📋 Hiperparámetros del modelo:\")\n",
    "print(f\"  - n_estimators: {model.n_estimators}\")\n",
    "print(f\"  - max_depth: {model.max_depth}\")\n",
    "print(f\"  - learning_rate: {model.learning_rate}\")\n",
    "print(f\"  - scale_pos_weight: {model.scale_pos_weight:.2f}\")"
   ]
  },
  {
   "cell_type": "markdown",
   "id": "1747e778",
   "metadata": {},
   "source": [
    "# ## 6. Evaluación del Modelo"
   ]
  },
  {
   "cell_type": "code",
   "execution_count": 43,
   "id": "833a2d2d",
   "metadata": {},
   "outputs": [
    {
     "name": "stdout",
     "output_type": "stream",
     "text": [
      "\n",
      "⏳ Entrenando modelo...\n",
      "✅ Modelo entrenado exitosamente\n",
      "============================================================\n",
      "📊 MÉTRICAS DE EVALUACIÓN\n",
      "============================================================\n"
     ]
    }
   ],
   "source": [
    "# Entrenar modelo\n",
    "print(\"\\n⏳ Entrenando modelo...\")\n",
    "\n",
    "model.fit(\n",
    "    X_train, \n",
    "    y_train,\n",
    "    eval_set=[(X_test, y_test)],   # Evaluar en test durante entrenamiento\n",
    "    verbose=False                   # No mostrar progreso detallado\n",
    ")\n",
    "\n",
    "print(\"✅ Modelo entrenado exitosamente\")\n",
    "# Predicciones\n",
    "y_pred_train = model.predict(X_train)\n",
    "y_pred_test = model.predict(X_test)\n",
    "\n",
    "# Probabilidades (para ROC-AUC)\n",
    "y_pred_proba_train = model.predict_proba(X_train)[:, 1]\n",
    "y_pred_proba_test = model.predict_proba(X_test)[:, 1]\n",
    "\n",
    "print(\"=\"*60)\n",
    "print(\"📊 MÉTRICAS DE EVALUACIÓN\")\n",
    "print(\"=\"*60)"
   ]
  },
  {
   "cell_type": "code",
   "execution_count": 44,
   "id": "64e9b3da",
   "metadata": {},
   "outputs": [
    {
     "name": "stdout",
     "output_type": "stream",
     "text": [
      "  Set  Accuracy  Precision   Recall  F1-Score  ROC-AUC\n",
      "Train      0.86   0.711921 0.895833  0.793358 0.942061\n",
      " Test      0.78   0.614286 0.716667  0.661538 0.808929\n",
      "\n",
      "🔍 Análisis de Overfitting:\n",
      "  - Diferencia Train-Test Accuracy: 0.0800\n",
      "  ⚠️ Ligero overfitting (diferencia 5-10%)\n",
      "\n",
      "🎯 Meta de Accuracy (>75%): ✅ ALCANZADA\n"
     ]
    }
   ],
   "source": [
    "# Calcular métricas para Train y Test\n",
    "metrics = {\n",
    "    'Set': ['Train', 'Test'],\n",
    "    'Accuracy': [\n",
    "        accuracy_score(y_train, y_pred_train),\n",
    "        accuracy_score(y_test, y_pred_test)\n",
    "    ],\n",
    "    'Precision': [\n",
    "        precision_score(y_train, y_pred_train),\n",
    "        precision_score(y_test, y_pred_test)\n",
    "    ],\n",
    "    'Recall': [\n",
    "        recall_score(y_train, y_pred_train),\n",
    "        recall_score(y_test, y_pred_test)\n",
    "    ],\n",
    "    'F1-Score': [\n",
    "        f1_score(y_train, y_pred_train),\n",
    "        f1_score(y_test, y_pred_test)\n",
    "    ],\n",
    "    'ROC-AUC': [\n",
    "        roc_auc_score(y_train, y_pred_proba_train),\n",
    "        roc_auc_score(y_test, y_pred_proba_test)\n",
    "    ]\n",
    "}\n",
    "\n",
    "metrics_df = pd.DataFrame(metrics)\n",
    "print(metrics_df.to_string(index=False))\n",
    "\n",
    "# Verificar overfitting\n",
    "train_acc = metrics_df.loc[0, 'Accuracy']\n",
    "test_acc = metrics_df.loc[1, 'Accuracy']\n",
    "diff = train_acc - test_acc\n",
    "\n",
    "print(f\"\\n🔍 Análisis de Overfitting:\")\n",
    "print(f\"  - Diferencia Train-Test Accuracy: {diff:.4f}\")\n",
    "if diff < 0.05:\n",
    "    print(f\"  ✅ Modelo generaliza bien (diferencia < 5%)\")\n",
    "elif diff < 0.10:\n",
    "    print(f\"  ⚠️ Ligero overfitting (diferencia 5-10%)\")\n",
    "else:\n",
    "    print(f\"  ❌ Overfitting significativo (diferencia > 10%)\")\n",
    "\n",
    "# Meta: Test Accuracy > 75%\n",
    "print(f\"\\n🎯 Meta de Accuracy (>75%): {'✅ ALCANZADA' if test_acc > 0.75 else '❌ NO ALCANZADA'}\")\n"
   ]
  },
  {
   "cell_type": "code",
   "execution_count": 15,
   "id": "1aaab801",
   "metadata": {},
   "outputs": [
    {
     "name": "stdout",
     "output_type": "stream",
     "text": [
      "\n",
      "============================================================\n",
      "CLASSIFICATION REPORT - TEST SET\n",
      "============================================================\n",
      "               precision    recall  f1-score   support\n",
      "\n",
      "Good Risk (0)      0.832     0.814     0.823       140\n",
      " Bad Risk (1)      0.587     0.617     0.602        60\n",
      "\n",
      "     accuracy                          0.755       200\n",
      "    macro avg      0.710     0.715     0.712       200\n",
      " weighted avg      0.759     0.755     0.757       200\n",
      "\n"
     ]
    }
   ],
   "source": [
    "# Classification Report detallado\n",
    "print(\"\\n\" + \"=\"*60)\n",
    "print(\"CLASSIFICATION REPORT - TEST SET\")\n",
    "print(\"=\"*60)\n",
    "print(classification_report(\n",
    "    y_test, \n",
    "    y_pred_test,\n",
    "    target_names=['Good Risk (0)', 'Bad Risk (1)'],\n",
    "    digits=3\n",
    "))"
   ]
  },
  {
   "cell_type": "markdown",
   "id": "c03cee39",
   "metadata": {},
   "source": [
    "# ## 7. Visualizaciones de Evaluación"
   ]
  },
  {
   "cell_type": "code",
   "execution_count": 45,
   "id": "1c8a7f69",
   "metadata": {},
   "outputs": [
    {
     "data": {
      "image/png": "[encoded data removed]",
      "text/plain": [
       "<Figure size 1400x500 with 4 Axes>"
      ]
     },
     "metadata": {},
     "output_type": "display_data"
    },
    {
     "name": "stdout",
     "output_type": "stream",
     "text": [
      "\n",
      "📊 Interpretación Matriz de Confusión (Test Set):\n",
      "  - True Negatives (TN): 113 - Correctamente predijo 'Good'\n",
      "  - False Positives (FP): 27 - Predijo 'Bad' pero era 'Good' ❌\n",
      "  - False Negatives (FN): 17 - Predijo 'Good' pero era 'Bad' ❌\n",
      "  - True Positives (TP): 43 - Correctamente predijo 'Bad'\n",
      "\n",
      "💡 Contexto del negocio:\n",
      "  - FP (Tipo I): Rechazar buen cliente → Oportunidad perdida\n",
      "  - FN (Tipo II): Aprobar mal cliente → Pérdida de dinero\n"
     ]
    }
   ],
   "source": [
    "# Matriz de Confusión\n",
    "fig, axes = plt.subplots(1, 2, figsize=(14, 5))\n",
    "\n",
    "# Train Set\n",
    "cm_train = confusion_matrix(y_train, y_pred_train)\n",
    "sns.heatmap(cm_train, annot=True, fmt='d', cmap='Blues', ax=axes[0],\n",
    "            xticklabels=['Good', 'Bad'], yticklabels=['Good', 'Bad'])\n",
    "axes[0].set_title('Matriz de Confusión - Train Set', fontsize=14, fontweight='bold')\n",
    "axes[0].set_ylabel('Valor Real', fontweight='bold')\n",
    "axes[0].set_xlabel('Predicción', fontweight='bold')\n",
    "\n",
    "# Test Set\n",
    "cm_test = confusion_matrix(y_test, y_pred_test)\n",
    "sns.heatmap(cm_test, annot=True, fmt='d', cmap='Oranges', ax=axes[1],\n",
    "            xticklabels=['Good', 'Bad'], yticklabels=['Good', 'Bad'])\n",
    "axes[1].set_title('Matriz de Confusión - Test Set', fontsize=14, fontweight='bold')\n",
    "axes[1].set_ylabel('Valor Real', fontweight='bold')\n",
    "axes[1].set_xlabel('Predicción', fontweight='bold')\n",
    "\n",
    "plt.tight_layout()\n",
    "plt.show()\n",
    "\n",
    "# Interpretación de la matriz\n",
    "tn, fp, fn, tp = cm_test.ravel()\n",
    "print(\"\\n📊 Interpretación Matriz de Confusión (Test Set):\")\n",
    "print(f\"  - True Negatives (TN): {tn} - Correctamente predijo 'Good'\")\n",
    "print(f\"  - False Positives (FP): {fp} - Predijo 'Bad' pero era 'Good' ❌\")\n",
    "print(f\"  - False Negatives (FN): {fn} - Predijo 'Good' pero era 'Bad' ❌\")\n",
    "print(f\"  - True Positives (TP): {tp} - Correctamente predijo 'Bad'\")\n",
    "\n",
    "print(f\"\\n💡 Contexto del negocio:\")\n",
    "print(f\"  - FP (Tipo I): Rechazar buen cliente → Oportunidad perdida\")\n",
    "print(f\"  - FN (Tipo II): Aprobar mal cliente → Pérdida de dinero\")\n"
   ]
  },
  {
   "cell_type": "code",
   "execution_count": 46,
   "id": "e86fe78b",
   "metadata": {},
   "outputs": [
    {
     "data": {
      "image/png": "[encoded data removed]",
      "text/plain": [
       "<Figure size 1000x600 with 1 Axes>"
      ]
     },
     "metadata": {},
     "output_type": "display_data"
    },
    {
     "name": "stdout",
     "output_type": "stream",
     "text": [
      "💡 Interpretación ROC-AUC:\n",
      "  - AUC = 1.0: Clasificador perfecto\n",
      "  - AUC = 0.5: Random classifier (línea diagonal)\n",
      "  - Nuestro modelo: 0.809\n"
     ]
    }
   ],
   "source": [
    "# Curva ROC\n",
    "fpr_train, tpr_train, _ = roc_curve(y_train, y_pred_proba_train)\n",
    "fpr_test, tpr_test, _ = roc_curve(y_test, y_pred_proba_test)\n",
    "\n",
    "plt.figure(figsize=(10, 6))\n",
    "plt.plot(fpr_train, tpr_train, label=f'Train (AUC = {roc_auc_score(y_train, y_pred_proba_train):.3f})', \n",
    "         linewidth=2, color='#3498db')\n",
    "plt.plot(fpr_test, tpr_test, label=f'Test (AUC = {roc_auc_score(y_test, y_pred_proba_test):.3f})', \n",
    "         linewidth=2, color='#e74c3c')\n",
    "plt.plot([0, 1], [0, 1], 'k--', label='Random Classifier', linewidth=1)\n",
    "plt.xlabel('False Positive Rate', fontsize=12, fontweight='bold')\n",
    "plt.ylabel('True Positive Rate', fontsize=12, fontweight='bold')\n",
    "plt.title('Curva ROC - XGBoost', fontsize=14, fontweight='bold')\n",
    "plt.legend(loc='lower right', fontsize=11)\n",
    "plt.grid(alpha=0.3)\n",
    "plt.tight_layout()\n",
    "plt.show()\n",
    "\n",
    "print(\"💡 Interpretación ROC-AUC:\")\n",
    "print(\"  - AUC = 1.0: Clasificador perfecto\")\n",
    "print(\"  - AUC = 0.5: Random classifier (línea diagonal)\")\n",
    "print(f\"  - Nuestro modelo: {roc_auc_score(y_test, y_pred_proba_test):.3f}\")"
   ]
  },
  {
   "cell_type": "code",
   "execution_count": 47,
   "id": "f05a64ec",
   "metadata": {},
   "outputs": [
    {
     "data": {
      "image/png": "[encoded data removed]",
      "text/plain": [
       "<Figure size 1400x500 with 2 Axes>"
      ]
     },
     "metadata": {},
     "output_type": "display_data"
    },
    {
     "name": "stdout",
     "output_type": "stream",
     "text": [
      "\n",
      "💡 Interpretación:\n",
      "  - Separación clara entre clases → Modelo discrimina bien\n",
      "  - Solapamiento → Clases difíciles de separar\n"
     ]
    }
   ],
   "source": [
    "# Distribución de probabilidades predichas\n",
    "fig, axes = plt.subplots(1, 2, figsize=(14, 5))\n",
    "\n",
    "# Train\n",
    "axes[0].hist(y_pred_proba_train[y_train == 0], bins=30, alpha=0.6, \n",
    "            label='Good Risk (0)', color='#2ecc71', edgecolor='black')\n",
    "axes[0].hist(y_pred_proba_train[y_train == 1], bins=30, alpha=0.6, \n",
    "            label='Bad Risk (1)', color='#e74c3c', edgecolor='black')\n",
    "axes[0].axvline(0.5, color='black', linestyle='--', linewidth=2, label='Threshold (0.5)')\n",
    "axes[0].set_xlabel('Probabilidad Predicha', fontweight='bold')\n",
    "axes[0].set_ylabel('Frecuencia', fontweight='bold')\n",
    "axes[0].set_title('Distribución de Probabilidades - Train', fontweight='bold')\n",
    "axes[0].legend()\n",
    "axes[0].grid(alpha=0.3)\n",
    "\n",
    "# Test\n",
    "axes[1].hist(y_pred_proba_test[y_test == 0], bins=30, alpha=0.6, \n",
    "            label='Good Risk (0)', color='#2ecc71', edgecolor='black')\n",
    "axes[1].hist(y_pred_proba_test[y_test == 1], bins=30, alpha=0.6, \n",
    "            label='Bad Risk (1)', color='#e74c3c', edgecolor='black')\n",
    "axes[1].axvline(0.5, color='black', linestyle='--', linewidth=2, label='Threshold (0.5)')\n",
    "axes[1].set_xlabel('Probabilidad Predicha', fontweight='bold')\n",
    "axes[1].set_ylabel('Frecuencia', fontweight='bold')\n",
    "axes[1].set_title('Distribución de Probabilidades - Test', fontweight='bold')\n",
    "axes[1].legend()\n",
    "axes[1].grid(alpha=0.3)\n",
    "\n",
    "plt.tight_layout()\n",
    "plt.show()\n",
    "\n",
    "print(\"\\n💡 Interpretación:\")\n",
    "print(\"  - Separación clara entre clases → Modelo discrimina bien\")\n",
    "print(\"  - Solapamiento → Clases difíciles de separar\")"
   ]
  },
  {
   "cell_type": "markdown",
   "id": "845d065c",
   "metadata": {},
   "source": [
    "# ## 8. Feature Importance"
   ]
  },
  {
   "cell_type": "code",
   "execution_count": 48,
   "id": "3e222c3f",
   "metadata": {},
   "outputs": [
    {
     "name": "stdout",
     "output_type": "stream",
     "text": [
      "============================================================\n",
      "🔍 FEATURE IMPORTANCE - TOP 10\n",
      "============================================================\n",
      "            feature  importance\n",
      "    checking_status    0.194410\n",
      " property_magnitude    0.067393\n",
      "     savings_status    0.066304\n",
      "other_payment_plans    0.062187\n",
      "     credit_history    0.061148\n",
      "           duration    0.052625\n",
      "         employment    0.049692\n",
      "      own_telephone    0.048168\n",
      "    residence_since    0.045642\n",
      "   existing_credits    0.042413\n"
     ]
    }
   ],
   "source": [
    "# Obtener importancia de features\n",
    "feature_importance = pd.DataFrame({\n",
    "    'feature': X_train.columns,\n",
    "    'importance': model.feature_importances_\n",
    "}).sort_values('importance', ascending=False)\n",
    "\n",
    "print(\"=\"*60)\n",
    "print(\"🔍 FEATURE IMPORTANCE - TOP 10\")\n",
    "print(\"=\"*60)\n",
    "print(feature_importance.head(10).to_string(index=False))"
   ]
  },
  {
   "cell_type": "code",
   "execution_count": null,
   "id": "12d51ece",
   "metadata": {},
   "outputs": [],
   "source": [
    "# Visualización de Feature Importance\n",
    "plt.figure(figsize=(10, 8))\n",
    "top_n = 15\n",
    "top_features = feature_importance.head(top_n)\n",
    "\n",
    "plt.barh(range(top_n), top_features['importance'].values, color='#9b59b6')\n",
    "plt.yticks(range(top_n), top_features['feature'].values)\n",
    "plt.xlabel('Importance Score', fontsize=12, fontweight='bold')\n",
    "plt.ylabel('Features', fontsize=12, fontweight='bold')\n",
    "plt.title(f'Top {top_n} Features - XGBoost Importance', fontsize=14, fontweight='bold')\n",
    "plt.gca().invert_yaxis()\n",
    "plt.grid(axis='x', alpha=0.3)\n",
    "plt.tight_layout()\n",
    "plt.show()\n",
    "\n",
    "print(\"\\n💡 Nota: Esta es la importancia BÁSICA de XGBoost\")\n",
    "print(\"   En el próximo notebook usaremos SHAP para interpretabilidad avanzada\")\n"
   ]
  },
  {
   "cell_type": "markdown",
   "id": "cd36f2b1",
   "metadata": {},
   "source": [
    "# ## 9. Guardar Modelo y Artefactos"
   ]
  },
  {
   "cell_type": "code",
   "execution_count": null,
   "id": "8e81bc8d",
   "metadata": {},
   "outputs": [],
   "source": [
    "# Crear carpeta para modelos si no existe\n",
    "models_dir = Path('../models')\n",
    "models_dir.mkdir(exist_ok=True)\n",
    "\n",
    "print(\"=\"*60)\n",
    "print(\"💾 GUARDANDO MODELO Y ARTEFACTOS\")\n",
    "print(\"=\"*60)\n",
    "\n",
    "# Guardar modelo\n",
    "model_path = models_dir / 'xgboost_model.pkl'\n",
    "joblib.dump(model, model_path)\n",
    "print(f\"✅ Modelo guardado: {model_path}\")\n",
    "\n",
    "# Guardar encoders\n",
    "encoders_path = models_dir / 'label_encoders.pkl'\n",
    "joblib.dump(label_encoders, encoders_path)\n",
    "print(f\"✅ Encoders guardados: {encoders_path}\")\n",
    "\n",
    "# Guardar nombres de features (para referencia)\n",
    "feature_names_path = models_dir / 'feature_names.pkl'\n",
    "joblib.dump(X_train.columns.tolist(), feature_names_path)\n",
    "print(f\"✅ Feature names guardados: {feature_names_path}\")\n",
    "\n",
    "# Guardar métricas\n",
    "metrics_path = models_dir / 'model_metrics.csv'\n",
    "metrics_df.to_csv(metrics_path, index=False)\n",
    "print(f\"✅ Métricas guardadas: {metrics_path}\")\n"
   ]
  },
  {
   "cell_type": "code",
   "execution_count": null,
   "id": "14ecaee8",
   "metadata": {},
   "outputs": [],
   "source": [
    "# Verificar que se puede cargar correctamente\n",
    "print(\"\\n🔍 Verificando carga del modelo...\")\n",
    "\n",
    "loaded_model = joblib.load(model_path)\n",
    "loaded_encoders = joblib.load(encoders_path)\n",
    "\n",
    "# Hacer una predicción de prueba\n",
    "test_prediction = loaded_model.predict(X_test[:5])\n",
    "print(f\"✅ Modelo cargado y funcional\")\n",
    "print(f\"   Predicciones de prueba: {test_prediction}\")\n"
   ]
  },
  {
   "cell_type": "markdown",
   "id": "c20467d2",
   "metadata": {},
   "source": [
    "# ## 10. Resumen y Conclusiones"
   ]
  },
  {
   "cell_type": "code",
   "execution_count": null,
   "id": "d68d34a4",
   "metadata": {},
   "outputs": [],
   "source": [
    "print(\"=\"*60)\n",
    "print(\"📝 RESUMEN EJECUTIVO - MODELADO\")\n",
    "print(\"=\"*60)\n",
    "\n",
    "print(f\"\"\"\n",
    "✅ MODELO ENTRENADO EXITOSAMENTE\n",
    "   - Algoritmo: XGBoost Classifier\n",
    "   - Features: {X_train.shape[1]}\n",
    "   - Training samples: {X_train.shape[0]}\n",
    "   - Test samples: {X_test.shape[0]}\n",
    "   \n",
    "📊 PERFORMANCE EN TEST SET\n",
    "   - Accuracy: {test_acc:.3f} {'✅' if test_acc > 0.75 else '❌'}\n",
    "   - Precision: {metrics_df.loc[1, 'Precision']:.3f}\n",
    "   - Recall: {metrics_df.loc[1, 'Recall']:.3f}\n",
    "   - F1-Score: {metrics_df.loc[1, 'F1-Score']:.3f}\n",
    "   - ROC-AUC: {metrics_df.loc[1, 'ROC-AUC']:.3f}\n",
    "   \n",
    "🔝 TOP 3 FEATURES MÁS IMPORTANTES\n",
    "   1. {feature_importance.iloc[0]['feature']}: {feature_importance.iloc[0]['importance']:.4f}\n",
    "   2. {feature_importance.iloc[1]['feature']}: {feature_importance.iloc[1]['importance']:.4f}\n",
    "   3. {feature_importance.iloc[2]['feature']}: {feature_importance.iloc[2]['importance']:.4f}\n",
    "   \n",
    "⚖️ MANEJO DE DESBALANCEO\n",
    "   - scale_pos_weight: {scale_pos_weight:.2f}\n",
    "   - Estrategia efectiva: {'✅ Sí' if abs(metrics_df.loc[1, 'Precision'] - metrics_df.loc[1, 'Recall']) < 0.1 else '⚠️ Revisar'}\n",
    "   \n",
    "💾 ARTEFACTOS GUARDADOS\n",
    "   - Modelo: xgboost_model.pkl\n",
    "   - Encoders: label_encoders.pkl\n",
    "   - Features: feature_names.pkl\n",
    "   - Métricas: model_metrics.csv\n",
    "   \n",
    "🎯 PRÓXIMOS PASOS\n",
    "   1. Implementar SHAP para interpretabilidad avanzada\n",
    "   2. Analizar explicaciones individuales (waterfall plots)\n",
    "   3. Identificar patrones globales (summary plots)\n",
    "   4. Crear dashboard interactivo\n",
    "\"\"\")\n",
    "\n",
    "print(\"✅ Modelado completado exitosamente\")\n",
    "print(\"📁 Listo para siguiente fase: Interpretabilidad con SHAP\")"
   ]
  }
 ],
 "metadata": {
  "kernelspec": {
   "display_name": ".venv",
   "language": "python",
   "name": "python3"
  },
  "language_info": {
   "codemirror_mode": {
    "name": "ipython",
    "version": 3
   },
   "file_extension": ".py",
   "mimetype": "text/x-python",
   "name": "python",
   "nbconvert_exporter": "python",
   "pygments_lexer": "ipython3",
   "version": "3.10.2"
  }
 },
 "nbformat": 4,
 "nbformat_minor": 5
}
